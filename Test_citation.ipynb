{
 "cells": [
  {
   "cell_type": "markdown",
   "id": "6d60be17-b701-4767-bfd9-d59cf3633acd",
   "metadata": {
    "citation-manager": {
     "citations": {
      "k3gph": [
       {
        "id": "15856068/VZRW7YU4",
        "source": "zotero"
       }
      ]
     }
    }
   },
   "source": [
    "Ex: Harold<cite id=\"k3gph\"><a href=\"#zotero%7C15856068%2FVZRW7YU4\">(Dunn, 2018)</a></cite>."
   ]
  },
  {
   "cell_type": "markdown",
   "id": "dae69548-a6f6-4036-a830-51d05fd680c0",
   "metadata": {},
   "source": [
    "asdf asd ("
   ]
  },
  {
   "cell_type": "markdown",
   "id": "6585e734-ec8f-41f9-928c-97218d968375",
   "metadata": {},
   "source": [
    "Citation ("
   ]
  }
 ],
 "metadata": {
  "citation-manager": {
   "items": {
    "zotero": {
     "15856068/VZRW7YU4": {
      "ISBN": "9780190228637",
      "URL": "https://oxfordre.com/politics/display/10.1093/acrefore/9780190228637.001.0001/acrefore-9780190228637-e-600?d=%2F10.1093%2Facrefore%2F9780190228637.001.0001%2Facrefore-9780190228637-e-600&p=emailAMEEPVZ0AL2ME",
      "abstract": "Over seventy-five years ago, the social sciences were irrevocably transformed by the rise of the policy sciences. The policy sciences, an ambitious multidisciplinary movement founded by the preeminent political scientist, Harold D. Lasswell, offered an unprecedented approach to public policy based primarily on an adaptation of the work of John Dewey and other pragmatists. Although parts of this new approach may be traced to the 19th century, the policy sciences were distinctive. Not only did they mandate the creation of knowledge about the process of policymaking; they also required that the knowledge so created be used to improve that process.",
      "accessed": {
       "date-parts": [
        [
         2025,
         4,
         14
        ]
       ]
      },
      "author": [
       {
        "family": "Dunn",
        "given": "William N."
       }
      ],
      "container-title": "Oxford Research Encyclopedia of Politics",
      "id": "15856068/VZRW7YU4",
      "issued": {
       "date-parts": [
        [
         2018,
         2,
         26
        ]
       ]
      },
      "language": "en",
      "note": "DOI: 10.1093/acrefore/9780190228637.013.600",
      "system_id": "zotero|15856068/VZRW7YU4",
      "title": "Harold Lasswell and the Study of Public Policy",
      "type": "chapter"
     }
    }
   }
  },
  "kernelspec": {
   "display_name": "Python 3-12 (COMM4190)",
   "language": "python",
   "name": "python3-12_comm4190"
  },
  "language_info": {
   "codemirror_mode": {
    "name": "ipython",
    "version": 3
   },
   "file_extension": ".py",
   "mimetype": "text/x-python",
   "name": "python",
   "nbconvert_exporter": "python",
   "pygments_lexer": "ipython3",
   "version": "3.12.8"
  }
 },
 "nbformat": 4,
 "nbformat_minor": 5
}
