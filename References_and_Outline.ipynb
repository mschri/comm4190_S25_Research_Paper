{
 "cells": [
  {
   "cell_type": "markdown",
   "id": "aebdb397-1a5a-4c1e-9fd0-a1d6ccc6ad99",
   "metadata": {},
   "source": [
    "### Introduction/News Article Breakdown:\n",
    "1. The Dual Edge of AI in democracy: https://www.fairobserver.com/more/science/shaping-public-discourse-the-dual-edge-of-ai-in-democracy/\n",
    "2. Threat of democracy by bad actors using AI in their messaging: i.e. disrupting electoral processes https://carnegieendowment.org/research/2024/12/can-democracy-survive-the-disruptive-power-of-ai?lang=en\n",
    "3. Digital authoritarianism: https://freedomhouse.org/report/freedom-net/2018/rise-digital-authoritarianism\n",
    "4. Mentions several implications across a few domains, including for ex privacy implications: https://blackbird.ai/blog/the-echo-chamber-of-influence-how-social-media-and-ai-are-redefining-misinformation-and-disinformation/\n",
    "    a) Privacy concerns issues with weaker democracies: https://www.ned.org/big-question-how-does-digital-privacy-matter-for-democracy-and-its-advocates/#:~:text=In%20the%20face%20of%20escalating,those%20involving%20AI%2C%20is%20needed.\n",
    "5. AI undermining public trust: https://mediarelations.gwu.edu/ai-political-campaigns-how-its-being-used-and-ethical-considerations-it-raises \n",
    "\n",
    "### Literature review:\n",
    "1. Voter polarization increasing, filter bubbles, limited counter-attitudinal information at a much greater scale: https://www.nber.org/system/files/chapters/c15133/c15133.pdf\n",
    "2. Emory: Impact of AI on elections: https://news.emory.edu/features/2024/09/emag_ai_elections_25-09-2024/index.html#:~:text=The%20call%20was%20what's%20known%20as%20a,in%20this%20case%2C%20apparently%20suppress%20voter%20turnout.&text=And%20ever%20since%2C%20these%20memes%2C%20testimonials%20and,isolating%20the%20electorate%20in%20their%20virtual%20realities.\n",
    "3. Democratic threats in the UK (can use to link to potential implications for US): https://cetas.turing.ac.uk/publications/ai-enabled-influence-operations-threat-uk-general-election#:~:text=(29)%20Morgan%20Meaker%2C%20%60%60Slovakia's%20Election%20Deepfakes%20Show,to%20Democracy%2C''%20WIRED%2C%203%20October%202023%2C%20https://www.wired.com/story/slovakias%2Delection%2Ddeepfakes%2Dshow%2Dai%2Dis%2Da%2Ddanger%2Dto%2Ddemocracy/.\n",
    "4. Political campaigns, elections, and echo chambers: https://www.techrxiv.org/doi/full/10.36227/techrxiv.174059950.03385147/v1\n",
    "5. Generative mematic weaponization (leveraging AI in social media sphere for bad): https://papers.ssrn.com/sol3/papers.cfm?abstract_id=5007096 \n",
    "\n",
    "\n",
    "\n",
    "### Pros:\n",
    "* More efficient messaging to reach voters, creative ways of reaching voters and the messages themselves\n",
    "* AI can make data driven tools more powerful and accessible within these campaign messages\n",
    "  * Either by the messaging campaigns themselves, \n",
    "  * Or voters/citizens themselves can use AI to do extensive research on their own and try to make informed decisions\n",
    "* Can empower less resourced campaigns: https://www.brennancenter.org/our-work/research-reports/generative-ai-political-advertising\n",
    "* Pro/neutral/counter: AI isn’t necessarily more persuasive than any other message: https://www.pnas.org/doi/abs/10.1073/pnas.2412815122\n",
    "* Also refer to 5th web article above (AI undermining public trust): AI is nothing new in terms of questions surrounding the rhetorical leverages of other media like tv, newspapers, etc.; it’s just a new medium: https://mediarelations.gwu.edu/ai-political-campaigns-how-its-being-used-and-ethical-considerations-it-raises \n",
    "* Can deepen political divide, HOWEVER if used right can also open the conversation: https://www.pnas.org/doi/abs/10.1073/pnas.2311627120 \n",
    "\n",
    "\n",
    "### Implications, Future directions for research/how to reconcile issues\n",
    "* Need for ethical regulations and guidelines: https://www.medialaws.eu/rivista/the-use-of-ai-in-electoral-campaigns-key-issues-and-remedies/#:~:text=4.5.&text=The%20core%20of%20the%20issue,their%20understanding%20of%20complex%20issues.\n",
    "* Improve digital literacy: https://www.fairobserver.com/more/science/shaping-public-discourse-the-dual-edge-of-ai-in-democracy/\n",
    "* Other solutions: i.e. content diversification, etc. https://www.techrxiv.org/doi/full/10.36227/techrxiv.174059950.03385147/v1\n"
   ]
  },
  {
   "cell_type": "code",
   "execution_count": null,
   "id": "c4d09685-937d-4645-9869-9b01a733800a",
   "metadata": {},
   "outputs": [],
   "source": []
  }
 ],
 "metadata": {
  "kernelspec": {
   "display_name": "Python 3 (ipykernel)",
   "language": "python",
   "name": "python3"
  },
  "language_info": {
   "codemirror_mode": {
    "name": "ipython",
    "version": 3
   },
   "file_extension": ".py",
   "mimetype": "text/x-python",
   "name": "python",
   "nbconvert_exporter": "python",
   "pygments_lexer": "ipython3",
   "version": "3.10.12"
  }
 },
 "nbformat": 4,
 "nbformat_minor": 5
}
